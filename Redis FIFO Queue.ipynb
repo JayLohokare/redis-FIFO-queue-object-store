{
 "cells": [
  {
   "cell_type": "markdown",
   "metadata": {},
   "source": [
    "Fixed length FIFO Queue for Redis"
   ]
  },
  {
   "cell_type": "code",
   "execution_count": null,
   "metadata": {},
   "outputs": [],
   "source": []
  },
  {
   "cell_type": "code",
   "execution_count": 1,
   "metadata": {},
   "outputs": [],
   "source": []
  },
  {
   "cell_type": "code",
   "execution_count": 200,
   "metadata": {},
   "outputs": [],
   "source": [
    "import redis\n",
    "class redisFIFOQ:\n",
    "    \n",
    "    newsQueueName = \"news\"\n",
    "    \n",
    "    def __init__(self, queueSize = 100):\n",
    "        self.db = redis.Redis()\n",
    "        self.newsQueueSize = queueSize\n",
    "    \n",
    "    def put(self, key, value):\n",
    "        if not isinstance(value,dict):\n",
    "            print (\"Value needs to be a dictionary \" + key)\n",
    "            return False\n",
    "        if not isinstance(key,str):\n",
    "            print (\"Key needs to be a string \" + key)\n",
    "            return False\n",
    "        self.db.hmset(key, value)\n",
    "        return True\n",
    "    \n",
    "    def get(self, key):\n",
    "        if not isinstance(key,str):\n",
    "            print (\"Key needs to be a string \" + key)\n",
    "            return False\n",
    "        elif not self.db.exists(key):\n",
    "            print (\"Key doesnt exist \" + key)\n",
    "            return False\n",
    "        \n",
    "        val = self.db.hgetall(key)\n",
    "        return val\n",
    "    \n",
    "    def delete(self, key):\n",
    "        if not self.db.exists(key):\n",
    "            print (\"Key doesnt exist \" + key)\n",
    "            return False\n",
    "        \n",
    "        self.db.delete(key)\n",
    "        return True\n",
    "    \n",
    "    def deleteAll(self):\n",
    "        for key in self.db.keys():\n",
    "            # delete the key\n",
    "            self.db.delete(key)\n",
    "                      \n",
    "    def checkIfKeyExists(self, key):\n",
    "        if self.db.exists(key):\n",
    "            return True\n",
    "        else:\n",
    "            return False\n",
    "        \n",
    "    ######################Queue starts here###################\n",
    "    \n",
    "    def getLengthOfQueue(self):\n",
    "        return self.db.llen(self.newsQueueName)\n",
    "    \n",
    "    #Check if Queue full\n",
    "    def isQueueFull(self):\n",
    "        if self.getLengthOfQueue() < self.newsQueueSize:\n",
    "            return False\n",
    "        return True\n",
    "    \n",
    "    #pushed value from end of queue (Pops oldest news)\n",
    "    def popQ(self):\n",
    "        val = self.db.rpop(self.newsQueueName)\n",
    "        return val \n",
    "    \n",
    "    #pushed value to top of news queue\n",
    "    def pushQ(self, value): \n",
    "        if self.isQueueFull():\n",
    "            self.popQ()\n",
    "        self.db.lpush(self.newsQueueName,value)\n",
    "        return True\n",
    "    \n",
    "    #Get values from start to end positions of newws queue\n",
    "    def getFromQueue(self, start, end):\n",
    "        val = self.db.lrange(self.newsQueueName, start, end)\n",
    "        return val\n",
    "    \n",
    "    #Get entire news queue content\n",
    "    def getQ(self):\n",
    "        return self.getFromQueue(0,self.newsQueueSize-1)"
   ]
  },
  {
   "cell_type": "code",
   "execution_count": null,
   "metadata": {},
   "outputs": [],
   "source": []
  },
  {
   "cell_type": "code",
   "execution_count": 207,
   "metadata": {},
   "outputs": [],
   "source": [
    "db = redisFIFOQ(5)"
   ]
  },
  {
   "cell_type": "code",
   "execution_count": 208,
   "metadata": {},
   "outputs": [
    {
     "data": {
      "text/plain": [
       "True"
      ]
     },
     "execution_count": 208,
     "metadata": {},
     "output_type": "execute_result"
    }
   ],
   "source": [
    "db.checkIfKeyExists('Jay')\n",
    "db.put(\"Jay\", {\"surname\" : \"jaylohokare\"})\n",
    "db.get(\"Jay\")\n",
    "db.delete(\"Jay\")\n"
   ]
  },
  {
   "cell_type": "code",
   "execution_count": 253,
   "metadata": {},
   "outputs": [
    {
     "data": {
      "text/plain": [
       "True"
      ]
     },
     "execution_count": 253,
     "metadata": {},
     "output_type": "execute_result"
    }
   ],
   "source": [
    "db.pushQ(\"50000\")"
   ]
  },
  {
   "cell_type": "code",
   "execution_count": 246,
   "metadata": {},
   "outputs": [
    {
     "data": {
      "text/plain": [
       "b'5'"
      ]
     },
     "execution_count": 246,
     "metadata": {},
     "output_type": "execute_result"
    }
   ],
   "source": [
    "db.popQ()"
   ]
  },
  {
   "cell_type": "code",
   "execution_count": 254,
   "metadata": {},
   "outputs": [
    {
     "data": {
      "text/plain": [
       "[b'50000']"
      ]
     },
     "execution_count": 254,
     "metadata": {},
     "output_type": "execute_result"
    }
   ],
   "source": [
    "db.getQ()"
   ]
  },
  {
   "cell_type": "code",
   "execution_count": 251,
   "metadata": {},
   "outputs": [
    {
     "data": {
      "text/plain": [
       "True"
      ]
     },
     "execution_count": 251,
     "metadata": {},
     "output_type": "execute_result"
    }
   ],
   "source": [
    "db.delete('news')"
   ]
  },
  {
   "cell_type": "code",
   "execution_count": null,
   "metadata": {},
   "outputs": [],
   "source": []
  },
  {
   "cell_type": "code",
   "execution_count": null,
   "metadata": {},
   "outputs": [],
   "source": []
  },
  {
   "cell_type": "code",
   "execution_count": null,
   "metadata": {},
   "outputs": [],
   "source": []
  }
 ],
 "metadata": {
  "kernelspec": {
   "display_name": "Python 3",
   "language": "python",
   "name": "python3"
  },
  "language_info": {
   "codemirror_mode": {
    "name": "ipython",
    "version": 3
   },
   "file_extension": ".py",
   "mimetype": "text/x-python",
   "name": "python",
   "nbconvert_exporter": "python",
   "pygments_lexer": "ipython3",
   "version": "3.6.5"
  }
 },
 "nbformat": 4,
 "nbformat_minor": 2
}
