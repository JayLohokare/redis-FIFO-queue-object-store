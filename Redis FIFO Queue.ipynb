{
 "cells": [
  {
   "cell_type": "markdown",
   "metadata": {},
   "source": [
    "Fixed length FIFO Queue for Redis"
   ]
  },
  {
   "cell_type": "code",
   "execution_count": null,
   "metadata": {},
   "outputs": [],
   "source": []
  },
  {
   "cell_type": "code",
   "execution_count": 1,
   "metadata": {},
   "outputs": [],
   "source": []
  },
  {
   "cell_type": "code",
   "execution_count": 158,
   "metadata": {},
   "outputs": [],
   "source": [
    "import redis\n",
    "class redisFIFOQ:\n",
    "    \n",
    "    newsQueueSize = 100\n",
    "    newsQueueName = \"news\"\n",
    "    \n",
    "    def __init__(self):\n",
    "        self.db = redis.Redis()\n",
    "    \n",
    "    def put(self, key, value):\n",
    "        if not isinstance(value,dict):\n",
    "            print (\"Value needs to be a dictionary \" + key)\n",
    "            return False\n",
    "        if not isinstance(key,str):\n",
    "            print (\"Key needs to be a string \" + key)\n",
    "            return False\n",
    "        self.db.hmset(key, value)\n",
    "        return True\n",
    "    \n",
    "    def get(self, key):\n",
    "        if not isinstance(key,str):\n",
    "            print (\"Key needs to be a string \" + key)\n",
    "            return False\n",
    "        elif not self.db.exists(key):\n",
    "            print (\"Key doesnt exist \" + key)\n",
    "            return False\n",
    "        \n",
    "        val = self.db.hgetall(key)\n",
    "        return val\n",
    "    \n",
    "    def delete(self, key):\n",
    "        if not self.db.exists(key):\n",
    "            print (\"Key doesnt exist \" + key)\n",
    "            return False\n",
    "        \n",
    "        self.db.delete(key)\n",
    "        return True\n",
    "    \n",
    "    \n",
    "    \n",
    "    def getLengthOfQueue(self):\n",
    "        return self.db.llen(self.newsQueueName)\n",
    "        \n",
    "    def deleteAll(self):\n",
    "        for key in self.db.keys():\n",
    "            # delete the key\n",
    "            self.db.delete(key)\n",
    "            \n",
    "    def checkIfExists(self, key):\n",
    "        if self.db.exists(key):\n",
    "            return True\n",
    "        else:\n",
    "            return False\n",
    "        \n",
    "    #pushed value to top of news queue\n",
    "    def pushIntoQueue(self, value):\n",
    "        \n",
    "        self.db.lpush(self.newsQueueName,value)\n",
    "        return True\n",
    "    \n",
    "    #pushed value from end of queue (Pops oldest news)\n",
    "    def pop(self):\n",
    "        val = self.db.rpop(self.newsQueueName)\n",
    "        return val \n",
    "    \n",
    "    #Get values from start to end positions of newws queue\n",
    "    def getValuesFromQueue(self, start, end):\n",
    "        val = self.db.lrange(self.newsQueueName, start, end)\n",
    "        return val\n",
    "    \n",
    "    #Get \n",
    "    def getEntireNewsQueue(self):\n",
    "        return self.getValuesFromQueue(0,self.newsQueueSize-1)"
   ]
  },
  {
   "cell_type": "code",
   "execution_count": null,
   "metadata": {},
   "outputs": [],
   "source": []
  },
  {
   "cell_type": "code",
   "execution_count": 159,
   "metadata": {},
   "outputs": [],
   "source": [
    "db = redisFIFOQ()"
   ]
  },
  {
   "cell_type": "code",
   "execution_count": 160,
   "metadata": {},
   "outputs": [
    {
     "data": {
      "text/plain": [
       "True"
      ]
     },
     "execution_count": 160,
     "metadata": {},
     "output_type": "execute_result"
    }
   ],
   "source": [
    "db.checkIfExists('Jay')\n",
    "db.put(\"Jay\", {\"surname\" : \"jaylohokare\"})\n",
    "db.get(\"Jay\")\n",
    "db.delete(\"Jay\")\n"
   ]
  },
  {
   "cell_type": "code",
   "execution_count": 166,
   "metadata": {},
   "outputs": [
    {
     "data": {
      "text/plain": [
       "True"
      ]
     },
     "execution_count": 166,
     "metadata": {},
     "output_type": "execute_result"
    }
   ],
   "source": [
    "db.pushIntoQueue(\"4\")"
   ]
  },
  {
   "cell_type": "code",
   "execution_count": 168,
   "metadata": {},
   "outputs": [
    {
     "data": {
      "text/plain": [
       "b'3'"
      ]
     },
     "execution_count": 168,
     "metadata": {},
     "output_type": "execute_result"
    }
   ],
   "source": [
    "db.pop()"
   ]
  },
  {
   "cell_type": "code",
   "execution_count": 169,
   "metadata": {},
   "outputs": [
    {
     "data": {
      "text/plain": [
       "[b'4', b'4', b'4', b'4', b'1', b'2', b'3', b'4', b'4']"
      ]
     },
     "execution_count": 169,
     "metadata": {},
     "output_type": "execute_result"
    }
   ],
   "source": [
    "db.getEntireNewsQueue()"
   ]
  },
  {
   "cell_type": "code",
   "execution_count": null,
   "metadata": {},
   "outputs": [],
   "source": []
  },
  {
   "cell_type": "code",
   "execution_count": null,
   "metadata": {},
   "outputs": [],
   "source": []
  },
  {
   "cell_type": "code",
   "execution_count": null,
   "metadata": {},
   "outputs": [],
   "source": []
  },
  {
   "cell_type": "code",
   "execution_count": null,
   "metadata": {},
   "outputs": [],
   "source": []
  }
 ],
 "metadata": {
  "kernelspec": {
   "display_name": "Python 3",
   "language": "python",
   "name": "python3"
  },
  "language_info": {
   "codemirror_mode": {
    "name": "ipython",
    "version": 3
   },
   "file_extension": ".py",
   "mimetype": "text/x-python",
   "name": "python",
   "nbconvert_exporter": "python",
   "pygments_lexer": "ipython3",
   "version": "3.6.5"
  }
 },
 "nbformat": 4,
 "nbformat_minor": 2
}
