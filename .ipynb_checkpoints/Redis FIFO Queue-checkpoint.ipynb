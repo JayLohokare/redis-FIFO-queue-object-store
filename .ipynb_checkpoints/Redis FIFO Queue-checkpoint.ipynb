{
 "cells": [
  {
   "cell_type": "markdown",
   "metadata": {},
   "source": [
    "Fixed length FIFO cache using Redis"
   ]
  },
  {
   "cell_type": "markdown",
   "metadata": {},
   "source": [
    "Useful for streaming applications, where data keeps coming in.\n",
    "REDIS cache will store the objects streaming in to server - API based on REDIS can now be used to retrieve latest top x enteries in DB."
   ]
  },
  {
   "cell_type": "code",
   "execution_count": null,
   "metadata": {},
   "outputs": [],
   "source": []
  },
  {
   "cell_type": "code",
   "execution_count": 45,
   "metadata": {},
   "outputs": [],
   "source": [
    "import redis\n",
    "class SlidingWindow:\n",
    " \n",
    "    #Create Redis sliding window object, default size 100\n",
    "    def __init__(self, debugOn = True, queueSize = 100, host=\"localhost\", port=6379, newsQueueName=\"news\"):\n",
    "        self.db = redis.Redis(host=host, port=port)\n",
    "        self.newsQueueSize = queueSize\n",
    "        self.newsQueueName = newsQueueName\n",
    "        if debugOn == 1:\n",
    "            debugOn = True\n",
    "        self.debugOn = debugOn\n",
    "            \n",
    "    \n",
    "    def endRedis(self):\n",
    "        self.db.connection_pool.disconnect()\n",
    "        \n",
    "    def put(self, key, value):\n",
    "        if not isinstance(value,dict):\n",
    "            if self.debugOn:print (\"Value needs to be a dictionary \" + key)\n",
    "            return False\n",
    "        if not isinstance(key,str):\n",
    "            if self.debugOn:print (\"Key needs to be a string \" + key)\n",
    "            return False\n",
    "        self.db.hmset(key, value)\n",
    "        return True\n",
    "    \n",
    "    def get(self, key):\n",
    "        if not isinstance(key,str):\n",
    "            if self.debugOn:print (\"Key needs to be a string \" + key)\n",
    "            return False\n",
    "        elif not self.db.exists(key):\n",
    "            if self.debugOn:print (\"Key doesnt exist \" + key)\n",
    "            return False\n",
    "        \n",
    "        val = self.db.hgetall(key)\n",
    "        return val\n",
    "    \n",
    "    def delete(self, key):\n",
    "        if key == self.newsQueueName:\n",
    "            if self.debugOn:print (\"Call freeQueue() function instead\")\n",
    "            return False\n",
    "        \n",
    "        if not self.db.exists(key):\n",
    "            if self.debugOn:print (\"Key doesnt exist \" + key)\n",
    "            return False\n",
    "        \n",
    "        self.db.delete(key)\n",
    "        return True\n",
    "    \n",
    "    def deleteAll(self):\n",
    "        for key in self.db.keys():\n",
    "            # delete the key\n",
    "            self.db.delete(key)\n",
    "                      \n",
    "    def checkIfKeyExists(self, key):\n",
    "        if self.db.exists(key):\n",
    "            return True\n",
    "        else:\n",
    "            return False\n",
    "        \n",
    "    ######################Queue implementation starts here###################\n",
    "    \n",
    "    \n",
    "    def getLengthOfQueue(self):\n",
    "        return self.db.llen(self.newsQueueName)\n",
    "    \n",
    "    #Check if Queue full\n",
    "    def isQueueFull(self):\n",
    "        if self.getLengthOfQueue() <= self.newsQueueSize:\n",
    "            return False\n",
    "        return True\n",
    "    \n",
    "    #pushed value from end of queue (Pops oldest news)\n",
    "    def popQ(self):\n",
    "        val = self.db.rpop(self.newsQueueName)\n",
    "        return val \n",
    "    \n",
    "    #pushed value to top of news queue\n",
    "    #Returns True if queue is over the capacity, else false\n",
    "    def pushQ(self, value): \n",
    "        #Dont push if object corresponding to key being pushed into queue exists\n",
    "        if self.checkIfKeyExists(value):\n",
    "            if self.debugOn:print (\"This key already exists\")\n",
    "            return False\n",
    "        self.db.lpush(self.newsQueueName,value)\n",
    "        if self.isQueueFull():\n",
    "            return 2\n",
    "        return True\n",
    "    \n",
    "    #Get values from start to end positions of newws queue\n",
    "    def getFromQueue(self, start, end):\n",
    "        val = self.db.lrange(self.newsQueueName, start, end)\n",
    "        return val\n",
    "    \n",
    "    #Get entire news queue content\n",
    "    def getQ(self):\n",
    "        return self.getFromQueue(0,self.newsQueueSize-1)\n",
    "    \n",
    "    def freeQueue(self):\n",
    "        keys = self.getQ()\n",
    "        for key in keys:\n",
    "            key = key.decode(\"utf-8\")\n",
    "            self.delete(key)\n",
    "        self.db.delete(self.newsQueueName)\n",
    "    \n",
    "    ################Sliding window key-value object storage implementation##################\n",
    "    \n",
    "    #Insert into sliding window\n",
    "    def insertObject(self, key, value):\n",
    "        key = str(key)\n",
    "        if self.debugOn:print(\"Pushing key \", key)\n",
    "        \n",
    "        if self.checkIfKeyExists(key):\n",
    "            if self.debugOn:print (\"Key already exists\")\n",
    "            return False\n",
    "        \n",
    "        if key == self.newsQueueName:\n",
    "            if self.debugOn:print (\"Cant use this key\")\n",
    "            return False\n",
    "        \n",
    "        isQueueFull = self.pushQ(key)\n",
    "        if not isQueueFull:\n",
    "            if self.debugOn:print (\"Something went wrong\")\n",
    "            return False\n",
    "        \n",
    "        if isQueueFull == 2:\n",
    "            keyToDelete = self.popQ()\n",
    "            self.delete(keyToDelete)\n",
    "            \n",
    "        self.put(key, value)\n",
    "        return True\n",
    "    \n",
    "    #Get sliding windows content\n",
    "    def getObjects(self):\n",
    "        keys = self.getQ()\n",
    "        objects = []\n",
    "        for key in keys:\n",
    "            key = key.decode(\"utf-8\") \n",
    "            value = self.get(key)\n",
    "            dct = {key:value}\n",
    "            objects.append(dct)\n",
    "        \n",
    "        return objects\n",
    "            \n",
    "        "
   ]
  },
  {
   "cell_type": "code",
   "execution_count": 46,
   "metadata": {},
   "outputs": [],
   "source": [
    "#host=\"daix-news-api.fcryea.ng.0001.use1.cache.amazonaws.com\", port=6379"
   ]
  },
  {
   "cell_type": "code",
   "execution_count": 47,
   "metadata": {},
   "outputs": [],
   "source": [
    "#Initiate Redis sliding windows object. Pass queue size as param. Default size = 100\n",
    "db = SlidingWindow(5)"
   ]
  },
  {
   "cell_type": "code",
   "execution_count": 43,
   "metadata": {},
   "outputs": [
    {
     "data": {
      "text/plain": [
       "True"
      ]
     },
     "execution_count": 43,
     "metadata": {},
     "output_type": "execute_result"
    }
   ],
   "source": [
    "#REDIS Key value storage functions\n",
    "db.checkIfKeyExists('Jay')\n",
    "db.put(\"Jay\", {\"surname\" : \"jaylohokare\"})\n",
    "db.get(\"Jay\")\n",
    "db.delete(\"Jay\")\n"
   ]
  },
  {
   "cell_type": "code",
   "execution_count": 54,
   "metadata": {},
   "outputs": [
    {
     "name": "stdout",
     "output_type": "stream",
     "text": [
      "Pushing key  8\n",
      "Key already exists\n"
     ]
    },
    {
     "data": {
      "text/plain": [
       "False"
      ]
     },
     "execution_count": 54,
     "metadata": {},
     "output_type": "execute_result"
    }
   ],
   "source": [
    "#Sliding window insert (key, dictionary). Key has to be unique for all objects\n",
    "db.insertObject(\"8\", {\"val\" :\"One\"})"
   ]
  },
  {
   "cell_type": "code",
   "execution_count": 53,
   "metadata": {},
   "outputs": [
    {
     "data": {
      "text/plain": [
       "[{'8': {b'val': b'One'}}]"
      ]
     },
     "execution_count": 53,
     "metadata": {},
     "output_type": "execute_result"
    }
   ],
   "source": [
    "#Get sliding window content\n",
    "db.getObjects()"
   ]
  },
  {
   "cell_type": "code",
   "execution_count": 8,
   "metadata": {},
   "outputs": [
    {
     "data": {
      "text/plain": [
       "[]"
      ]
     },
     "execution_count": 8,
     "metadata": {},
     "output_type": "execute_result"
    }
   ],
   "source": [
    "#Get queue content -> Get all keys in sliding window\n",
    "db.getQ()"
   ]
  },
  {
   "cell_type": "code",
   "execution_count": 50,
   "metadata": {},
   "outputs": [],
   "source": [
    "#Delete the sliding window content\n",
    "db.freeQueue()"
   ]
  },
  {
   "cell_type": "code",
   "execution_count": 387,
   "metadata": {},
   "outputs": [],
   "source": []
  },
  {
   "cell_type": "code",
   "execution_count": 19,
   "metadata": {},
   "outputs": [],
   "source": [
    "#Use this function cautiously! Deletes REDIS content\n",
    "db.deleteAll()"
   ]
  },
  {
   "cell_type": "code",
   "execution_count": 26,
   "metadata": {},
   "outputs": [],
   "source": [
    "db.endRedis()"
   ]
  },
  {
   "cell_type": "code",
   "execution_count": null,
   "metadata": {},
   "outputs": [],
   "source": []
  }
 ],
 "metadata": {
  "kernelspec": {
   "display_name": "Python 3",
   "language": "python",
   "name": "python3"
  },
  "language_info": {
   "codemirror_mode": {
    "name": "ipython",
    "version": 3
   },
   "file_extension": ".py",
   "mimetype": "text/x-python",
   "name": "python",
   "nbconvert_exporter": "python",
   "pygments_lexer": "ipython3",
   "version": "3.6.5"
  }
 },
 "nbformat": 4,
 "nbformat_minor": 2
}
